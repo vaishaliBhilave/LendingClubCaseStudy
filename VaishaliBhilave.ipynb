{
 "cells": [
  {
   "cell_type": "markdown",
   "id": "d18f819c",
   "metadata": {},
   "source": [
    "## **Lending Club Case Study**"
   ]
  },
  {
   "cell_type": "code",
   "execution_count": 2,
   "id": "c0b68d1b",
   "metadata": {},
   "outputs": [],
   "source": [
    "#Importing all libraries\n",
    "import numpy as np\n",
    "import pandas as pd\n",
    "import seaborn as sns\n",
    "import matplotlib.pyplot as plt\n",
    "# Ignore warnings\n",
    "import warnings\n",
    "warnings.filterwarnings('ignore')"
   ]
  },
  {
   "cell_type": "markdown",
   "id": "59cbf203",
   "metadata": {},
   "source": [
    "### **Data Sourcing**"
   ]
  },
  {
   "cell_type": "code",
   "execution_count": 3,
   "id": "409d8631",
   "metadata": {},
   "outputs": [],
   "source": [
    "#Load the dataset\n",
    "loanDf = pd.read_csv(\"loan.csv\")"
   ]
  },
  {
   "cell_type": "code",
   "execution_count": 4,
   "id": "3427ae54",
   "metadata": {},
   "outputs": [
    {
     "name": "stdout",
     "output_type": "stream",
     "text": [
      "<class 'pandas.core.frame.DataFrame'>\n",
      "RangeIndex: 39717 entries, 0 to 39716\n",
      "Columns: 111 entries, id to total_il_high_credit_limit\n",
      "dtypes: float64(74), int64(13), object(24)\n",
      "memory usage: 33.6+ MB\n"
     ]
    }
   ],
   "source": [
    "#Information about a loan dataset including the index dtype and columns, non-null values and memory usage.\n",
    "loanDf.info()"
   ]
  },
  {
   "cell_type": "code",
   "execution_count": 5,
   "id": "59f5f488",
   "metadata": {},
   "outputs": [
    {
     "data": {
      "text/html": [
       "<div>\n",
       "<style scoped>\n",
       "    .dataframe tbody tr th:only-of-type {\n",
       "        vertical-align: middle;\n",
       "    }\n",
       "\n",
       "    .dataframe tbody tr th {\n",
       "        vertical-align: top;\n",
       "    }\n",
       "\n",
       "    .dataframe thead th {\n",
       "        text-align: right;\n",
       "    }\n",
       "</style>\n",
       "<table border=\"1\" class=\"dataframe\">\n",
       "  <thead>\n",
       "    <tr style=\"text-align: right;\">\n",
       "      <th></th>\n",
       "      <th>id</th>\n",
       "      <th>member_id</th>\n",
       "      <th>loan_amnt</th>\n",
       "      <th>funded_amnt</th>\n",
       "      <th>funded_amnt_inv</th>\n",
       "      <th>installment</th>\n",
       "      <th>annual_inc</th>\n",
       "      <th>dti</th>\n",
       "      <th>delinq_2yrs</th>\n",
       "      <th>inq_last_6mths</th>\n",
       "      <th>...</th>\n",
       "      <th>num_tl_90g_dpd_24m</th>\n",
       "      <th>num_tl_op_past_12m</th>\n",
       "      <th>pct_tl_nvr_dlq</th>\n",
       "      <th>percent_bc_gt_75</th>\n",
       "      <th>pub_rec_bankruptcies</th>\n",
       "      <th>tax_liens</th>\n",
       "      <th>tot_hi_cred_lim</th>\n",
       "      <th>total_bal_ex_mort</th>\n",
       "      <th>total_bc_limit</th>\n",
       "      <th>total_il_high_credit_limit</th>\n",
       "    </tr>\n",
       "  </thead>\n",
       "  <tbody>\n",
       "    <tr>\n",
       "      <th>count</th>\n",
       "      <td>3.971700e+04</td>\n",
       "      <td>3.971700e+04</td>\n",
       "      <td>39717.000000</td>\n",
       "      <td>39717.000000</td>\n",
       "      <td>39717.000000</td>\n",
       "      <td>39717.000000</td>\n",
       "      <td>3.971700e+04</td>\n",
       "      <td>39717.000000</td>\n",
       "      <td>39717.000000</td>\n",
       "      <td>39717.000000</td>\n",
       "      <td>...</td>\n",
       "      <td>0.0</td>\n",
       "      <td>0.0</td>\n",
       "      <td>0.0</td>\n",
       "      <td>0.0</td>\n",
       "      <td>39020.000000</td>\n",
       "      <td>39678.0</td>\n",
       "      <td>0.0</td>\n",
       "      <td>0.0</td>\n",
       "      <td>0.0</td>\n",
       "      <td>0.0</td>\n",
       "    </tr>\n",
       "    <tr>\n",
       "      <th>mean</th>\n",
       "      <td>6.831319e+05</td>\n",
       "      <td>8.504636e+05</td>\n",
       "      <td>11219.443815</td>\n",
       "      <td>10947.713196</td>\n",
       "      <td>10397.448868</td>\n",
       "      <td>324.561922</td>\n",
       "      <td>6.896893e+04</td>\n",
       "      <td>13.315130</td>\n",
       "      <td>0.146512</td>\n",
       "      <td>0.869200</td>\n",
       "      <td>...</td>\n",
       "      <td>NaN</td>\n",
       "      <td>NaN</td>\n",
       "      <td>NaN</td>\n",
       "      <td>NaN</td>\n",
       "      <td>0.043260</td>\n",
       "      <td>0.0</td>\n",
       "      <td>NaN</td>\n",
       "      <td>NaN</td>\n",
       "      <td>NaN</td>\n",
       "      <td>NaN</td>\n",
       "    </tr>\n",
       "    <tr>\n",
       "      <th>std</th>\n",
       "      <td>2.106941e+05</td>\n",
       "      <td>2.656783e+05</td>\n",
       "      <td>7456.670694</td>\n",
       "      <td>7187.238670</td>\n",
       "      <td>7128.450439</td>\n",
       "      <td>208.874874</td>\n",
       "      <td>6.379377e+04</td>\n",
       "      <td>6.678594</td>\n",
       "      <td>0.491812</td>\n",
       "      <td>1.070219</td>\n",
       "      <td>...</td>\n",
       "      <td>NaN</td>\n",
       "      <td>NaN</td>\n",
       "      <td>NaN</td>\n",
       "      <td>NaN</td>\n",
       "      <td>0.204324</td>\n",
       "      <td>0.0</td>\n",
       "      <td>NaN</td>\n",
       "      <td>NaN</td>\n",
       "      <td>NaN</td>\n",
       "      <td>NaN</td>\n",
       "    </tr>\n",
       "    <tr>\n",
       "      <th>min</th>\n",
       "      <td>5.473400e+04</td>\n",
       "      <td>7.069900e+04</td>\n",
       "      <td>500.000000</td>\n",
       "      <td>500.000000</td>\n",
       "      <td>0.000000</td>\n",
       "      <td>15.690000</td>\n",
       "      <td>4.000000e+03</td>\n",
       "      <td>0.000000</td>\n",
       "      <td>0.000000</td>\n",
       "      <td>0.000000</td>\n",
       "      <td>...</td>\n",
       "      <td>NaN</td>\n",
       "      <td>NaN</td>\n",
       "      <td>NaN</td>\n",
       "      <td>NaN</td>\n",
       "      <td>0.000000</td>\n",
       "      <td>0.0</td>\n",
       "      <td>NaN</td>\n",
       "      <td>NaN</td>\n",
       "      <td>NaN</td>\n",
       "      <td>NaN</td>\n",
       "    </tr>\n",
       "    <tr>\n",
       "      <th>25%</th>\n",
       "      <td>5.162210e+05</td>\n",
       "      <td>6.667800e+05</td>\n",
       "      <td>5500.000000</td>\n",
       "      <td>5400.000000</td>\n",
       "      <td>5000.000000</td>\n",
       "      <td>167.020000</td>\n",
       "      <td>4.040400e+04</td>\n",
       "      <td>8.170000</td>\n",
       "      <td>0.000000</td>\n",
       "      <td>0.000000</td>\n",
       "      <td>...</td>\n",
       "      <td>NaN</td>\n",
       "      <td>NaN</td>\n",
       "      <td>NaN</td>\n",
       "      <td>NaN</td>\n",
       "      <td>0.000000</td>\n",
       "      <td>0.0</td>\n",
       "      <td>NaN</td>\n",
       "      <td>NaN</td>\n",
       "      <td>NaN</td>\n",
       "      <td>NaN</td>\n",
       "    </tr>\n",
       "    <tr>\n",
       "      <th>50%</th>\n",
       "      <td>6.656650e+05</td>\n",
       "      <td>8.508120e+05</td>\n",
       "      <td>10000.000000</td>\n",
       "      <td>9600.000000</td>\n",
       "      <td>8975.000000</td>\n",
       "      <td>280.220000</td>\n",
       "      <td>5.900000e+04</td>\n",
       "      <td>13.400000</td>\n",
       "      <td>0.000000</td>\n",
       "      <td>1.000000</td>\n",
       "      <td>...</td>\n",
       "      <td>NaN</td>\n",
       "      <td>NaN</td>\n",
       "      <td>NaN</td>\n",
       "      <td>NaN</td>\n",
       "      <td>0.000000</td>\n",
       "      <td>0.0</td>\n",
       "      <td>NaN</td>\n",
       "      <td>NaN</td>\n",
       "      <td>NaN</td>\n",
       "      <td>NaN</td>\n",
       "    </tr>\n",
       "    <tr>\n",
       "      <th>75%</th>\n",
       "      <td>8.377550e+05</td>\n",
       "      <td>1.047339e+06</td>\n",
       "      <td>15000.000000</td>\n",
       "      <td>15000.000000</td>\n",
       "      <td>14400.000000</td>\n",
       "      <td>430.780000</td>\n",
       "      <td>8.230000e+04</td>\n",
       "      <td>18.600000</td>\n",
       "      <td>0.000000</td>\n",
       "      <td>1.000000</td>\n",
       "      <td>...</td>\n",
       "      <td>NaN</td>\n",
       "      <td>NaN</td>\n",
       "      <td>NaN</td>\n",
       "      <td>NaN</td>\n",
       "      <td>0.000000</td>\n",
       "      <td>0.0</td>\n",
       "      <td>NaN</td>\n",
       "      <td>NaN</td>\n",
       "      <td>NaN</td>\n",
       "      <td>NaN</td>\n",
       "    </tr>\n",
       "    <tr>\n",
       "      <th>max</th>\n",
       "      <td>1.077501e+06</td>\n",
       "      <td>1.314167e+06</td>\n",
       "      <td>35000.000000</td>\n",
       "      <td>35000.000000</td>\n",
       "      <td>35000.000000</td>\n",
       "      <td>1305.190000</td>\n",
       "      <td>6.000000e+06</td>\n",
       "      <td>29.990000</td>\n",
       "      <td>11.000000</td>\n",
       "      <td>8.000000</td>\n",
       "      <td>...</td>\n",
       "      <td>NaN</td>\n",
       "      <td>NaN</td>\n",
       "      <td>NaN</td>\n",
       "      <td>NaN</td>\n",
       "      <td>2.000000</td>\n",
       "      <td>0.0</td>\n",
       "      <td>NaN</td>\n",
       "      <td>NaN</td>\n",
       "      <td>NaN</td>\n",
       "      <td>NaN</td>\n",
       "    </tr>\n",
       "  </tbody>\n",
       "</table>\n",
       "<p>8 rows × 87 columns</p>\n",
       "</div>"
      ],
      "text/plain": [
       "                 id     member_id     loan_amnt   funded_amnt  \\\n",
       "count  3.971700e+04  3.971700e+04  39717.000000  39717.000000   \n",
       "mean   6.831319e+05  8.504636e+05  11219.443815  10947.713196   \n",
       "std    2.106941e+05  2.656783e+05   7456.670694   7187.238670   \n",
       "min    5.473400e+04  7.069900e+04    500.000000    500.000000   \n",
       "25%    5.162210e+05  6.667800e+05   5500.000000   5400.000000   \n",
       "50%    6.656650e+05  8.508120e+05  10000.000000   9600.000000   \n",
       "75%    8.377550e+05  1.047339e+06  15000.000000  15000.000000   \n",
       "max    1.077501e+06  1.314167e+06  35000.000000  35000.000000   \n",
       "\n",
       "       funded_amnt_inv   installment    annual_inc           dti  \\\n",
       "count     39717.000000  39717.000000  3.971700e+04  39717.000000   \n",
       "mean      10397.448868    324.561922  6.896893e+04     13.315130   \n",
       "std        7128.450439    208.874874  6.379377e+04      6.678594   \n",
       "min           0.000000     15.690000  4.000000e+03      0.000000   \n",
       "25%        5000.000000    167.020000  4.040400e+04      8.170000   \n",
       "50%        8975.000000    280.220000  5.900000e+04     13.400000   \n",
       "75%       14400.000000    430.780000  8.230000e+04     18.600000   \n",
       "max       35000.000000   1305.190000  6.000000e+06     29.990000   \n",
       "\n",
       "        delinq_2yrs  inq_last_6mths  ...  num_tl_90g_dpd_24m  \\\n",
       "count  39717.000000    39717.000000  ...                 0.0   \n",
       "mean       0.146512        0.869200  ...                 NaN   \n",
       "std        0.491812        1.070219  ...                 NaN   \n",
       "min        0.000000        0.000000  ...                 NaN   \n",
       "25%        0.000000        0.000000  ...                 NaN   \n",
       "50%        0.000000        1.000000  ...                 NaN   \n",
       "75%        0.000000        1.000000  ...                 NaN   \n",
       "max       11.000000        8.000000  ...                 NaN   \n",
       "\n",
       "       num_tl_op_past_12m  pct_tl_nvr_dlq  percent_bc_gt_75  \\\n",
       "count                 0.0             0.0               0.0   \n",
       "mean                  NaN             NaN               NaN   \n",
       "std                   NaN             NaN               NaN   \n",
       "min                   NaN             NaN               NaN   \n",
       "25%                   NaN             NaN               NaN   \n",
       "50%                   NaN             NaN               NaN   \n",
       "75%                   NaN             NaN               NaN   \n",
       "max                   NaN             NaN               NaN   \n",
       "\n",
       "       pub_rec_bankruptcies  tax_liens  tot_hi_cred_lim  total_bal_ex_mort  \\\n",
       "count          39020.000000    39678.0              0.0                0.0   \n",
       "mean               0.043260        0.0              NaN                NaN   \n",
       "std                0.204324        0.0              NaN                NaN   \n",
       "min                0.000000        0.0              NaN                NaN   \n",
       "25%                0.000000        0.0              NaN                NaN   \n",
       "50%                0.000000        0.0              NaN                NaN   \n",
       "75%                0.000000        0.0              NaN                NaN   \n",
       "max                2.000000        0.0              NaN                NaN   \n",
       "\n",
       "       total_bc_limit  total_il_high_credit_limit  \n",
       "count             0.0                         0.0  \n",
       "mean              NaN                         NaN  \n",
       "std               NaN                         NaN  \n",
       "min               NaN                         NaN  \n",
       "25%               NaN                         NaN  \n",
       "50%               NaN                         NaN  \n",
       "75%               NaN                         NaN  \n",
       "max               NaN                         NaN  \n",
       "\n",
       "[8 rows x 87 columns]"
      ]
     },
     "execution_count": 5,
     "metadata": {},
     "output_type": "execute_result"
    }
   ],
   "source": [
    "#Descriptive statistics include those that summarize the central tendency, dispersion and shape of a loan dataset's distribution, excluding ``NaN`` values.\n",
    "loanDf.describe()"
   ]
  },
  {
   "cell_type": "code",
   "execution_count": 6,
   "id": "3b985cf8",
   "metadata": {},
   "outputs": [
    {
     "name": "stdout",
     "output_type": "stream",
     "text": [
      "(39717, 111)\n",
      "id                              int64\n",
      "member_id                       int64\n",
      "loan_amnt                       int64\n",
      "funded_amnt                     int64\n",
      "funded_amnt_inv               float64\n",
      "                               ...   \n",
      "tax_liens                     float64\n",
      "tot_hi_cred_lim               float64\n",
      "total_bal_ex_mort             float64\n",
      "total_bc_limit                float64\n",
      "total_il_high_credit_limit    float64\n",
      "Length: 111, dtype: object\n"
     ]
    }
   ],
   "source": [
    "# About shape & datatype of loan dataset columns\n",
    "print(loanDf.shape)\n",
    "print(loanDf.dtypes)"
   ]
  },
  {
   "cell_type": "markdown",
   "id": "40cf2d20",
   "metadata": {},
   "source": [
    "### **Data Cleaning**"
   ]
  },
  {
   "cell_type": "code",
   "execution_count": 184,
   "id": "e4345358",
   "metadata": {},
   "outputs": [
    {
     "name": "stdout",
     "output_type": "stream",
     "text": [
      "id                                0\n",
      "member_id                         0\n",
      "loan_amnt                         0\n",
      "funded_amnt                       0\n",
      "funded_amnt_inv                   0\n",
      "                              ...  \n",
      "tax_liens                        39\n",
      "tot_hi_cred_lim               39717\n",
      "total_bal_ex_mort             39717\n",
      "total_bc_limit                39717\n",
      "total_il_high_credit_limit    39717\n",
      "Length: 111, dtype: int64\n"
     ]
    }
   ],
   "source": [
    "#Checking null values in dataframe\n",
    "print(loanDf.isnull().sum())"
   ]
  },
  {
   "cell_type": "code",
   "execution_count": 7,
   "id": "b13a61db",
   "metadata": {},
   "outputs": [
    {
     "name": "stdout",
     "output_type": "stream",
     "text": [
      "(39717, 57)\n"
     ]
    }
   ],
   "source": [
    "#Drop Columns having all null values\n",
    "loanDf.dropna(axis=1, how='all', thresh=None, subset=None, inplace=True)\n",
    "#Shape of dataframe after removing null column\n",
    "print(loanDf.shape)"
   ]
  },
  {
   "cell_type": "code",
   "execution_count": 8,
   "id": "4169551d",
   "metadata": {},
   "outputs": [],
   "source": [
    "#To make all columns visible\n",
    "pd.options.display.max_columns=58"
   ]
  },
  {
   "cell_type": "code",
   "execution_count": 9,
   "id": "8f313593",
   "metadata": {},
   "outputs": [
    {
     "name": "stdout",
     "output_type": "stream",
     "text": [
      "id                             0.000000\n",
      "member_id                      0.000000\n",
      "loan_amnt                      0.000000\n",
      "funded_amnt                    0.000000\n",
      "funded_amnt_inv                0.000000\n",
      "term                           0.000000\n",
      "int_rate                       0.000000\n",
      "installment                    0.000000\n",
      "grade                          0.000000\n",
      "sub_grade                      0.000000\n",
      "emp_title                      6.191303\n",
      "emp_length                     2.706650\n",
      "home_ownership                 0.000000\n",
      "annual_inc                     0.000000\n",
      "verification_status            0.000000\n",
      "issue_d                        0.000000\n",
      "loan_status                    0.000000\n",
      "pymnt_plan                     0.000000\n",
      "url                            0.000000\n",
      "desc                          32.580507\n",
      "purpose                        0.000000\n",
      "title                          0.027696\n",
      "zip_code                       0.000000\n",
      "addr_state                     0.000000\n",
      "dti                            0.000000\n",
      "delinq_2yrs                    0.000000\n",
      "earliest_cr_line               0.000000\n",
      "inq_last_6mths                 0.000000\n",
      "mths_since_last_delinq        64.662487\n",
      "mths_since_last_record        92.985372\n",
      "open_acc                       0.000000\n",
      "pub_rec                        0.000000\n",
      "revol_bal                      0.000000\n",
      "revol_util                     0.125891\n",
      "total_acc                      0.000000\n",
      "initial_list_status            0.000000\n",
      "out_prncp                      0.000000\n",
      "out_prncp_inv                  0.000000\n",
      "total_pymnt                    0.000000\n",
      "total_pymnt_inv                0.000000\n",
      "total_rec_prncp                0.000000\n",
      "total_rec_int                  0.000000\n",
      "total_rec_late_fee             0.000000\n",
      "recoveries                     0.000000\n",
      "collection_recovery_fee        0.000000\n",
      "last_pymnt_d                   0.178765\n",
      "last_pymnt_amnt                0.000000\n",
      "next_pymnt_d                  97.129693\n",
      "last_credit_pull_d             0.005036\n",
      "collections_12_mths_ex_med     0.140998\n",
      "policy_code                    0.000000\n",
      "application_type               0.000000\n",
      "acc_now_delinq                 0.000000\n",
      "chargeoff_within_12_mths       0.140998\n",
      "delinq_amnt                    0.000000\n",
      "pub_rec_bankruptcies           1.754916\n",
      "tax_liens                      0.098195\n",
      "dtype: float64\n",
      "(39717, 54)\n"
     ]
    }
   ],
   "source": [
    "#Check no of null values in percentage\n",
    "print((loanDf.isnull().sum()/len(loanDf))*100)\n",
    "maxnullcolumn =((loanDf.isnull().sum()/len(loanDf))*100) \n",
    "columnstodelete = maxnullcolumn[maxnullcolumn > 60].index\n",
    "\n",
    "#Drop column which has null value more than \n",
    "loanDf.drop(columnstodelete ,axis=1, inplace=True)\n",
    "\n",
    "#Shape of dataframe after removing column having 70% value null\n",
    "print(loanDf.shape)"
   ]
  },
  {
   "cell_type": "code",
   "execution_count": 10,
   "id": "96243848",
   "metadata": {},
   "outputs": [
    {
     "name": "stdout",
     "output_type": "stream",
     "text": [
      "tax_liens (39717, 54)\n",
      "pub_rec_bankruptcies (38036, 54)\n",
      "delinq_amnt (39717, 54)\n",
      "chargeoff_within_12_mths (39717, 54)\n",
      "acc_now_delinq (39717, 54)\n",
      "application_type INDIVIDUAL    39717\n",
      "Name: application_type, dtype: int64\n",
      "policy_code 1    39717\n",
      "Name: policy_code, dtype: int64\n",
      "collections_12_mths_ex_med (39717, 54)\n",
      "initial_list_status f    39717\n",
      "Name: initial_list_status, dtype: int64\n",
      "pymnt_plan n    39717\n",
      "Name: pymnt_plan, dtype: int64\n"
     ]
    }
   ],
   "source": [
    "#Check columns having all single type or null values values\n",
    "\n",
    "print(\"tax_liens\",loanDf[(loanDf[\"tax_liens\"].isnull())| (loanDf[\"tax_liens\"] == 0.0)].shape)\n",
    "print(\"pub_rec_bankruptcies\",loanDf[(loanDf[\"pub_rec_bankruptcies\"].isnull())| (loanDf[\"pub_rec_bankruptcies\"] == 0.0)].shape)\n",
    "print(\"delinq_amnt\",loanDf[(loanDf[\"delinq_amnt\"].isnull())| (loanDf[\"delinq_amnt\"] == 0)].shape)\n",
    "print(\"chargeoff_within_12_mths\",loanDf[(loanDf[\"chargeoff_within_12_mths\"].isnull())| (loanDf[\"chargeoff_within_12_mths\"] == 0.0)].shape)\n",
    "print(\"acc_now_delinq\",loanDf[(loanDf[\"acc_now_delinq\"].isnull())| (loanDf[\"acc_now_delinq\"] == 0)].shape)\n",
    "print(\"application_type\",loanDf.application_type.value_counts())\n",
    "print(\"policy_code\",loanDf.policy_code.value_counts())\n",
    "print(\"collections_12_mths_ex_med\",loanDf[(loanDf[\"collections_12_mths_ex_med\"].isnull())| (loanDf[\"collections_12_mths_ex_med\"] == 0.0)].shape)\n",
    "print(\"initial_list_status\",loanDf.initial_list_status.value_counts())\n",
    "print(\"pymnt_plan\",loanDf.pymnt_plan.value_counts())\n"
   ]
  },
  {
   "cell_type": "code",
   "execution_count": 11,
   "id": "150692d8",
   "metadata": {},
   "outputs": [],
   "source": [
    "#Droping columns having all single type or null values values\n",
    "columnstodelete=['tax_liens','pub_rec_bankruptcies','delinq_amnt','chargeoff_within_12_mths','acc_now_delinq','application_type','policy_code','collections_12_mths_ex_med','initial_list_status','pymnt_plan']\n",
    "loanDf.drop(columnstodelete ,axis=1, inplace=True)"
   ]
  },
  {
   "cell_type": "code",
   "execution_count": 12,
   "id": "df91229a",
   "metadata": {},
   "outputs": [],
   "source": [
    "#Identifing Customer Behaviour Variables\n",
    "loanDf.columns\n",
    "custBehvVar = ['delinq_2yrs','earliest_cr_line','inq_last_6mths','open_acc','pub_rec','revol_bal','revol_util','total_acc','out_prncp','out_prncp_inv','total_pymnt',\n",
    "       'total_pymnt_inv', 'total_rec_prncp', 'total_rec_int',\n",
    "       'total_rec_late_fee', 'recoveries', 'collection_recovery_fee',\n",
    "       'last_pymnt_d', 'last_pymnt_amnt', 'last_credit_pull_d']\n",
    "\n",
    "# Removing customer behaviour variables columns as customer behaviour variables are not available at time of loan application ,\n",
    "# and thus they cannot be used as predictors for loan approvals\n",
    "loanDf.drop(custBehvVar ,axis=1, inplace=True)"
   ]
  },
  {
   "cell_type": "code",
   "execution_count": 13,
   "id": "5a126010",
   "metadata": {},
   "outputs": [
    {
     "name": "stdout",
     "output_type": "stream",
     "text": [
      "(39717, 24)\n"
     ]
    }
   ],
   "source": [
    "#Shape of dataframe after removing customer behaviour variables\n",
    "print(loanDf.shape)"
   ]
  },
  {
   "cell_type": "code",
   "execution_count": 14,
   "id": "b22e7639",
   "metadata": {},
   "outputs": [
    {
     "name": "stdout",
     "output_type": "stream",
     "text": [
      "(39717, 22)\n"
     ]
    }
   ],
   "source": [
    "#Removing column 'url' and 'desc' as it does not have any role in pridicting to approve for loan\n",
    "\n",
    "loanDf.drop(['url','desc'] ,axis=1, inplace=True)\n",
    "\n",
    "#Shape of dataframe after removing above columns\n",
    "print(loanDf.shape)"
   ]
  },
  {
   "cell_type": "code",
   "execution_count": 15,
   "id": "c2434d6f",
   "metadata": {},
   "outputs": [
    {
     "name": "stdout",
     "output_type": "stream",
     "text": [
      "id                        0\n",
      "member_id                 0\n",
      "loan_amnt                 0\n",
      "funded_amnt               0\n",
      "funded_amnt_inv           0\n",
      "term                      0\n",
      "int_rate                  0\n",
      "installment               0\n",
      "grade                     0\n",
      "sub_grade                 0\n",
      "emp_title              2459\n",
      "emp_length             1075\n",
      "home_ownership            0\n",
      "annual_inc                0\n",
      "verification_status       0\n",
      "issue_d                   0\n",
      "loan_status               0\n",
      "purpose                   0\n",
      "title                    11\n",
      "zip_code                  0\n",
      "addr_state                0\n",
      "dti                       0\n",
      "dtype: int64\n"
     ]
    }
   ],
   "source": [
    "#Check null values in columns\n",
    "print((loanDf.isnull().sum()))"
   ]
  },
  {
   "cell_type": "code",
   "execution_count": 16,
   "id": "ce91fa7d",
   "metadata": {},
   "outputs": [],
   "source": [
    "# As it is visible that three existing columns still are having  null values namely \n",
    "#1. emp_title\n",
    "#2. emp_length\n",
    "#3. title\n",
    "\n",
    "#Both emp_title and emp_length entries are neccessary details, so removing rows having null values in these columns\n",
    "loanDf = loanDf[~(loanDf['emp_title'].isnull())]\n",
    "loanDf = loanDf[~(loanDf['emp_length'].isnull())]\n",
    "\n",
    "#removing title column as it is not contributing in analysis for loan approval\n",
    "loanDf.drop(['title'] ,axis=1, inplace=True)"
   ]
  },
  {
   "cell_type": "code",
   "execution_count": 17,
   "id": "85087e9a",
   "metadata": {},
   "outputs": [
    {
     "name": "stdout",
     "output_type": "stream",
     "text": [
      "(37202, 21)\n"
     ]
    }
   ],
   "source": [
    "#Shape of dataframe after removing above rows/columns\n",
    "print(loanDf.shape)"
   ]
  },
  {
   "cell_type": "code",
   "execution_count": 18,
   "id": "d873b777",
   "metadata": {},
   "outputs": [],
   "source": [
    "#Removing 'month' from term colmn and '%' from int_rate column to make it easier to analyze and also changing its data type\n",
    "loanDf['term'] = loanDf.term.str.replace('months','')\n",
    "loanDf['term'] = loanDf['term'].astype(int)\n",
    "loanDf['int_rate'] = loanDf.int_rate.str.replace('%','')\n",
    "loanDf['int_rate'] = loanDf['int_rate'].astype(float)"
   ]
  },
  {
   "cell_type": "code",
   "execution_count": 19,
   "id": "797ffb5e",
   "metadata": {},
   "outputs": [],
   "source": [
    "#renaming above column to make it easier to understand values\n",
    "loanDf.rename({'term': 'term_in_month', 'int_rate': 'int_rate_in_per'}, axis=1, inplace=True)"
   ]
  },
  {
   "cell_type": "code",
   "execution_count": 20,
   "id": "276ce4de",
   "metadata": {},
   "outputs": [],
   "source": [
    "# Dropping rows where Loan status is 'Current' because \n",
    "# these are not supporting in analysis as these are neither fully paid nor defaulted\n",
    "loanDf = loanDf[loanDf['loan_status'] != 'Current']"
   ]
  },
  {
   "cell_type": "code",
   "execution_count": 21,
   "id": "bb73a77a",
   "metadata": {},
   "outputs": [
    {
     "name": "stdout",
     "output_type": "stream",
     "text": [
      "(36136, 21)\n"
     ]
    }
   ],
   "source": [
    "#Shape of dataframe after removing above row\n",
    "print(loanDf.shape)"
   ]
  },
  {
   "cell_type": "markdown",
   "id": "3cbbb48a",
   "metadata": {},
   "source": [
    "### **Data Analyzation**"
   ]
  },
  {
   "cell_type": "code",
   "execution_count": 22,
   "id": "edc65164",
   "metadata": {},
   "outputs": [
    {
     "data": {
      "text/plain": [
       "<AxesSubplot:xlabel='annual_inc'>"
      ]
     },
     "execution_count": 22,
     "metadata": {},
     "output_type": "execute_result"
    },
    {
     "data": {
      "image/png": "[encoded data removed]",
      "text/plain": [
       "<Figure size 432x288 with 1 Axes>"
      ]
     },
     "metadata": {
      "needs_background": "light"
     },
     "output_type": "display_data"
    }
   ],
   "source": [
    "#Analyzing annual income ,Detecting outliers \n",
    "sns.boxplot(loanDf['annual_inc'])"
   ]
  },
  {
   "cell_type": "code",
   "execution_count": 43,
   "id": "7d98bb8d",
   "metadata": {},
   "outputs": [
    {
     "data": {
      "text/plain": [
       "count     33990.000000\n",
       "mean      60472.589390\n",
       "std       26395.098884\n",
       "min        4000.000000\n",
       "25%       40000.000000\n",
       "50%       56000.000000\n",
       "75%       76942.000000\n",
       "max      132444.000000\n",
       "Name: annual_inc, dtype: float64"
      ]
     },
     "execution_count": 43,
     "metadata": {},
     "output_type": "execute_result"
    }
   ],
   "source": [
    "loanDf['annual_inc'].describe()"
   ]
  },
  {
   "cell_type": "code",
   "execution_count": 47,
   "id": "9853f0c6",
   "metadata": {},
   "outputs": [
    {
     "name": "stdout",
     "output_type": "stream",
     "text": [
      "36900.0\n"
     ]
    }
   ],
   "source": [
    "#detecting and removing outliers\n",
    "Q1 = loanDf['annual_inc'].quantile(0.25)\n",
    "Q3 = loanDf['annual_inc'].quantile(0.75)\n",
    "IQR = Q3 - Q1\n",
    "print(IQR)\n",
    "\n",
    "cond1 = loanDf['annual_inc'] < (Q1 - 1.5 * IQR)\n",
    "cond2 = loanDf['annual_inc'] > (Q3 + 1.5 * IQR)\n",
    "\n",
    "loanDf = loanDf[~((cond1== True) | (cond2==True))]"
   ]
  },
  {
   "cell_type": "code",
   "execution_count": 49,
   "id": "02e2ac02",
   "metadata": {},
   "outputs": [
    {
     "data": {
      "text/plain": [
       "<AxesSubplot:xlabel='annual_inc'>"
      ]
     },
     "execution_count": 49,
     "metadata": {},
     "output_type": "execute_result"
    },
    {
     "data": {
      "image/png": "[encoded data removed]",
      "text/plain": [
       "<Figure size 432x288 with 1 Axes>"
      ]
     },
     "metadata": {
      "needs_background": "light"
     },
     "output_type": "display_data"
    }
   ],
   "source": [
    "#After removing outliers\n",
    "sns.boxplot(loanDf['annual_inc']) "
   ]
  },
  {
   "cell_type": "code",
   "execution_count": 27,
   "id": "08669cc5",
   "metadata": {},
   "outputs": [
    {
     "data": {
      "text/plain": [
       "(-1.1271458126994447,\n",
       " 1.1041726780724397,\n",
       " -1.1124744002082723,\n",
       " 1.1005940451905338)"
      ]
     },
     "execution_count": 27,
     "metadata": {},
     "output_type": "execute_result"
    },
    {
     "data": {
      "image/png": "[encoded data removed]",
      "text/plain": [
       "<Figure size 432x288 with 1 Axes>"
      ]
     },
     "metadata": {},
     "output_type": "display_data"
    }
   ],
   "source": [
    "#Analyzing verification status of borrower where loan is either fully paid or charged off \n",
    "varPer = (loanDf['verification_status'].value_counts()/len(loanDf))*100 \n",
    "labels = varPer.index\n",
    "plt.pie(varPer, labels=labels, autopct='%1.1f%%',\n",
    "        shadow=True, startangle=90 ,)\n",
    "plt.axis('equal')"
   ]
  },
  {
   "cell_type": "code",
   "execution_count": 105,
   "id": "43208ba3",
   "metadata": {},
   "outputs": [
    {
     "data": {
      "text/plain": [
       "Fully Paid     14562\n",
       "Charged Off     2543\n",
       "Name: loan_status, dtype: int64"
      ]
     },
     "execution_count": 105,
     "metadata": {},
     "output_type": "execute_result"
    },
    {
     "data": {
      "image/png": "[encoded data removed]",
      "text/plain": [
       "<Figure size 432x288 with 1 Axes>"
      ]
     },
     "metadata": {},
     "output_type": "display_data"
    }
   ],
   "source": [
    "#Count of Fully Paid and Charged Off borrower where sanctioned loan is less than loan amount requested\n",
    "df1 = loanDf[loanDf.loan_amnt>loanDf.funded_amnt_inv]\n",
    "varPer = (df1.loan_status.value_counts()/len(df1))*100 \n",
    "labels = varPer.index\n",
    "plt.pie(varPer, labels=labels, autopct='%1.1f%%',\n",
    "        shadow=True, startangle=90)\n",
    "plt.axis('equal')"
   ]
  },
  {
   "cell_type": "code",
   "execution_count": 104,
   "id": "c4fe0f85",
   "metadata": {},
   "outputs": [
    {
     "data": {
      "text/plain": [
       "<AxesSubplot:xlabel='verification_status', ylabel='funded_amnt_inv'>"
      ]
     },
     "execution_count": 104,
     "metadata": {},
     "output_type": "execute_result"
    },
    {
     "data": {
      "image/png": "[encoded data removed]",
      "text/plain": [
       "<Figure size 432x288 with 1 Axes>"
      ]
     },
     "metadata": {
      "needs_background": "light"
     },
     "output_type": "display_data"
    }
   ],
   "source": [
    "#Analyze borrower verification status and loan amount sanctioned by investor wrt loan status \n",
    "dfver= loanDf[['verification_status','loan_status','funded_amnt_inv']].sort_values(['loan_status','verification_status'])\n",
    "sns.barplot(x='verification_status', y='funded_amnt_inv', hue=\"loan_status\", data=dfver, estimator=np.sum )\n",
    "\n",
    "#Below plot shows that borrower verification is not having much impact on its loan status. As borrower which are verified are having maximum charged off loans"
   ]
  },
  {
   "cell_type": "code",
   "execution_count": 29,
   "id": "070f8332",
   "metadata": {},
   "outputs": [
    {
     "data": {
      "text/plain": [
       "<AxesSubplot:xlabel='count', ylabel='purpose'>"
      ]
     },
     "execution_count": 29,
     "metadata": {},
     "output_type": "execute_result"
    },
    {
     "data": {
      "image/png": "[encoded data removed]",
      "text/plain": [
       "<Figure size 720x1080 with 1 Axes>"
      ]
     },
     "metadata": {
      "needs_background": "light"
     },
     "output_type": "display_data"
    }
   ],
   "source": [
    "#Analysis of loan purpose\n",
    "plt.figure(figsize=(10,15))\n",
    "sns.countplot(y=\"purpose\",data=loanDf,hue='loan_status')\n",
    "\n",
    "#Below plot shows that most of the loan taken for debt consolidation purpose are fully paid\n",
    "#For renewable energy purpose very less amount of loan is proposed\n",
    "#Maximum number of charged off loan is also for debt consolidation"
   ]
  },
  {
   "cell_type": "code",
   "execution_count": 30,
   "id": "08abbbe4",
   "metadata": {},
   "outputs": [
    {
     "data": {
      "text/plain": [
       "<AxesSubplot:xlabel='home_ownership', ylabel='count'>"
      ]
     },
     "execution_count": 30,
     "metadata": {},
     "output_type": "execute_result"
    },
    {
     "data": {
      "image/png": "[encoded data removed]",
      "text/plain": [
       "<Figure size 720x432 with 1 Axes>"
      ]
     },
     "metadata": {
      "needs_background": "light"
     },
     "output_type": "display_data"
    }
   ],
   "source": [
    "#Analyze home ownership wrt loan status\n",
    "plt.figure(figsize=(10,6))\n",
    "sns.countplot(x=\"home_ownership\",data=df1,hue='loan_status')\n",
    "\n",
    "#Below plot shows maximum number of charged off loan and fully paid loan is where borrower is living in rent\n",
    "#Borrower who are having their own home is having minimum number of charged off loan"
   ]
  },
  {
   "cell_type": "code",
   "execution_count": 72,
   "id": "3db35abe",
   "metadata": {},
   "outputs": [
    {
     "data": {
      "text/plain": [
       "<AxesSubplot:xlabel='term_in_month', ylabel='count'>"
      ]
     },
     "execution_count": 72,
     "metadata": {},
     "output_type": "execute_result"
    },
    {
     "data": {
      "image/png": "[encoded data removed]",
      "text/plain": [
       "<Figure size 576x288 with 1 Axes>"
      ]
     },
     "metadata": {
      "needs_background": "light"
     },
     "output_type": "display_data"
    }
   ],
   "source": [
    "#Analyzing number of payments on the loan wrt loan status\n",
    "plt.figure(figsize=(8,4))\n",
    "sns.countplot(x=\"term_in_month\",data=df1,hue='loan_status')\n",
    "\n",
    "#Below plot shows that most of the loan which are having less number of payment are fully paid"
   ]
  },
  {
   "cell_type": "code",
   "execution_count": 106,
   "id": "9757ce8e",
   "metadata": {},
   "outputs": [
    {
     "data": {
      "text/plain": [
       "<AxesSubplot:xlabel='grade', ylabel='annual_inc'>"
      ]
     },
     "execution_count": 106,
     "metadata": {},
     "output_type": "execute_result"
    },
    {
     "data": {
      "image/png": "[encoded data removed]",
      "text/plain": [
       "<Figure size 720x360 with 1 Axes>"
      ]
     },
     "metadata": {
      "needs_background": "light"
     },
     "output_type": "display_data"
    }
   ],
   "source": [
    "#Analyze borrower loan grade and annual income wrt loan status\n",
    "plt.figure(figsize=(10,5))\n",
    "sns.barplot(x='grade', y='annual_inc', hue=\"loan_status\", data=loanDf.sort_values(['grade']), estimator=np.mean )\n",
    "\n",
    "#Below plot shows that borrower having loan grade G have maximum charged off loan and annual income\n",
    "#Below plot shows that borrower having loan grade A have minimum no of charged off loan and annual income"
   ]
  },
  {
   "cell_type": "code",
   "execution_count": 107,
   "id": "4457ec5f",
   "metadata": {},
   "outputs": [
    {
     "data": {
      "text/plain": [
       "<AxesSubplot:xlabel='issue_y', ylabel='int_rate_in_per'>"
      ]
     },
     "execution_count": 107,
     "metadata": {},
     "output_type": "execute_result"
    },
    {
     "data": {
      "image/png": "[encoded data removed]",
      "text/plain": [
       "<Figure size 720x432 with 1 Axes>"
      ]
     },
     "metadata": {
      "needs_background": "light"
     },
     "output_type": "display_data"
    }
   ],
   "source": [
    "#Analyze loan interest rate and  issued year wrt loan status\n",
    "plt.figure(figsize=(10,6))\n",
    "#creating derived column for loan issued month and year\n",
    "loanDf[[\"issue_m\", \"issue_y\"]] =loanDf.issue_d.str.split(\"-\", expand = True)\n",
    "#plot \n",
    "sns.barplot(y='int_rate_in_per', x='issue_y', data =loanDf,hue='loan_status')\n",
    "\n",
    "#Below graph shows that in year 2011 maximum number of loan is issued which are charged off\n",
    "#In year 2009 maximum number of loan is issued which are fully paid\n",
    "# Overall maximum loan issued in year 2011 and minum in 2007"
   ]
  },
  {
   "cell_type": "code",
   "execution_count": 91,
   "id": "6b38ba9f",
   "metadata": {},
   "outputs": [
    {
     "data": {
      "text/plain": [
       "<AxesSubplot:xlabel='loan_amnt', ylabel='emp_length'>"
      ]
     },
     "execution_count": 91,
     "metadata": {},
     "output_type": "execute_result"
    },
    {
     "data": {
      "image/png": "[encoded data removed]",
      "text/plain": [
       "<Figure size 720x432 with 1 Axes>"
      ]
     },
     "metadata": {
      "needs_background": "light"
     },
     "output_type": "display_data"
    }
   ],
   "source": [
    "#Analyzing effect of number of years of experience of a person on loan status\n",
    "plt.figure(figsize=(10,6))\n",
    "df3 = loanDf[['loan_amnt','emp_length','loan_status']].sort_values(['emp_length','loan_status'])\n",
    "sns.barplot(x='loan_amnt', y='emp_length', hue=\"loan_status\", data=df3 , estimator=np.sum) \n",
    "\n",
    "#Below plot shows borrower having more than 10 years experience have maximunm number of loan fully paid\n",
    "#Below plot also shows charged off loan ratio is also decreasing by years of experience"
   ]
  },
  {
   "cell_type": "code",
   "execution_count": 111,
   "id": "65cfab94",
   "metadata": {},
   "outputs": [
    {
     "data": {
      "text/html": [
       "<div>\n",
       "<style scoped>\n",
       "    .dataframe tbody tr th:only-of-type {\n",
       "        vertical-align: middle;\n",
       "    }\n",
       "\n",
       "    .dataframe tbody tr th {\n",
       "        vertical-align: top;\n",
       "    }\n",
       "\n",
       "    .dataframe thead th {\n",
       "        text-align: right;\n",
       "    }\n",
       "</style>\n",
       "<table border=\"1\" class=\"dataframe\">\n",
       "  <thead>\n",
       "    <tr style=\"text-align: right;\">\n",
       "      <th></th>\n",
       "      <th>id</th>\n",
       "      <th>member_id</th>\n",
       "      <th>loan_amnt</th>\n",
       "      <th>funded_amnt</th>\n",
       "      <th>funded_amnt_inv</th>\n",
       "      <th>term_in_month</th>\n",
       "      <th>int_rate_in_per</th>\n",
       "      <th>installment</th>\n",
       "      <th>annual_inc</th>\n",
       "      <th>dti</th>\n",
       "    </tr>\n",
       "  </thead>\n",
       "  <tbody>\n",
       "    <tr>\n",
       "      <th>id</th>\n",
       "      <td>1.000000</td>\n",
       "      <td>0.993585</td>\n",
       "      <td>0.117964</td>\n",
       "      <td>0.129084</td>\n",
       "      <td>0.232715</td>\n",
       "      <td>0.174291</td>\n",
       "      <td>0.053865</td>\n",
       "      <td>0.073419</td>\n",
       "      <td>0.038393</td>\n",
       "      <td>0.092847</td>\n",
       "    </tr>\n",
       "    <tr>\n",
       "      <th>member_id</th>\n",
       "      <td>0.993585</td>\n",
       "      <td>1.000000</td>\n",
       "      <td>0.118296</td>\n",
       "      <td>0.128620</td>\n",
       "      <td>0.243359</td>\n",
       "      <td>0.193394</td>\n",
       "      <td>0.050775</td>\n",
       "      <td>0.068494</td>\n",
       "      <td>0.040173</td>\n",
       "      <td>0.094057</td>\n",
       "    </tr>\n",
       "    <tr>\n",
       "      <th>loan_amnt</th>\n",
       "      <td>0.117964</td>\n",
       "      <td>0.118296</td>\n",
       "      <td>1.000000</td>\n",
       "      <td>0.981828</td>\n",
       "      <td>0.935144</td>\n",
       "      <td>0.348886</td>\n",
       "      <td>0.286350</td>\n",
       "      <td>0.930675</td>\n",
       "      <td>0.391608</td>\n",
       "      <td>0.093864</td>\n",
       "    </tr>\n",
       "    <tr>\n",
       "      <th>funded_amnt</th>\n",
       "      <td>0.129084</td>\n",
       "      <td>0.128620</td>\n",
       "      <td>0.981828</td>\n",
       "      <td>1.000000</td>\n",
       "      <td>0.953174</td>\n",
       "      <td>0.328379</td>\n",
       "      <td>0.291960</td>\n",
       "      <td>0.956436</td>\n",
       "      <td>0.387538</td>\n",
       "      <td>0.093034</td>\n",
       "    </tr>\n",
       "    <tr>\n",
       "      <th>funded_amnt_inv</th>\n",
       "      <td>0.232715</td>\n",
       "      <td>0.243359</td>\n",
       "      <td>0.935144</td>\n",
       "      <td>0.953174</td>\n",
       "      <td>1.000000</td>\n",
       "      <td>0.349000</td>\n",
       "      <td>0.284518</td>\n",
       "      <td>0.899764</td>\n",
       "      <td>0.370921</td>\n",
       "      <td>0.101098</td>\n",
       "    </tr>\n",
       "    <tr>\n",
       "      <th>term_in_month</th>\n",
       "      <td>0.174291</td>\n",
       "      <td>0.193394</td>\n",
       "      <td>0.348886</td>\n",
       "      <td>0.328379</td>\n",
       "      <td>0.349000</td>\n",
       "      <td>1.000000</td>\n",
       "      <td>0.435471</td>\n",
       "      <td>0.088811</td>\n",
       "      <td>0.078462</td>\n",
       "      <td>0.081245</td>\n",
       "    </tr>\n",
       "    <tr>\n",
       "      <th>int_rate_in_per</th>\n",
       "      <td>0.053865</td>\n",
       "      <td>0.050775</td>\n",
       "      <td>0.286350</td>\n",
       "      <td>0.291960</td>\n",
       "      <td>0.284518</td>\n",
       "      <td>0.435471</td>\n",
       "      <td>1.000000</td>\n",
       "      <td>0.264149</td>\n",
       "      <td>0.042527</td>\n",
       "      <td>0.115139</td>\n",
       "    </tr>\n",
       "    <tr>\n",
       "      <th>installment</th>\n",
       "      <td>0.073419</td>\n",
       "      <td>0.068494</td>\n",
       "      <td>0.930675</td>\n",
       "      <td>0.956436</td>\n",
       "      <td>0.899764</td>\n",
       "      <td>0.088811</td>\n",
       "      <td>0.264149</td>\n",
       "      <td>1.000000</td>\n",
       "      <td>0.385373</td>\n",
       "      <td>0.082601</td>\n",
       "    </tr>\n",
       "    <tr>\n",
       "      <th>annual_inc</th>\n",
       "      <td>0.038393</td>\n",
       "      <td>0.040173</td>\n",
       "      <td>0.391608</td>\n",
       "      <td>0.387538</td>\n",
       "      <td>0.370921</td>\n",
       "      <td>0.078462</td>\n",
       "      <td>0.042527</td>\n",
       "      <td>0.385373</td>\n",
       "      <td>1.000000</td>\n",
       "      <td>-0.071886</td>\n",
       "    </tr>\n",
       "    <tr>\n",
       "      <th>dti</th>\n",
       "      <td>0.092847</td>\n",
       "      <td>0.094057</td>\n",
       "      <td>0.093864</td>\n",
       "      <td>0.093034</td>\n",
       "      <td>0.101098</td>\n",
       "      <td>0.081245</td>\n",
       "      <td>0.115139</td>\n",
       "      <td>0.082601</td>\n",
       "      <td>-0.071886</td>\n",
       "      <td>1.000000</td>\n",
       "    </tr>\n",
       "  </tbody>\n",
       "</table>\n",
       "</div>"
      ],
      "text/plain": [
       "                       id  member_id  loan_amnt  funded_amnt  funded_amnt_inv  \\\n",
       "id               1.000000   0.993585   0.117964     0.129084         0.232715   \n",
       "member_id        0.993585   1.000000   0.118296     0.128620         0.243359   \n",
       "loan_amnt        0.117964   0.118296   1.000000     0.981828         0.935144   \n",
       "funded_amnt      0.129084   0.128620   0.981828     1.000000         0.953174   \n",
       "funded_amnt_inv  0.232715   0.243359   0.935144     0.953174         1.000000   \n",
       "term_in_month    0.174291   0.193394   0.348886     0.328379         0.349000   \n",
       "int_rate_in_per  0.053865   0.050775   0.286350     0.291960         0.284518   \n",
       "installment      0.073419   0.068494   0.930675     0.956436         0.899764   \n",
       "annual_inc       0.038393   0.040173   0.391608     0.387538         0.370921   \n",
       "dti              0.092847   0.094057   0.093864     0.093034         0.101098   \n",
       "\n",
       "                 term_in_month  int_rate_in_per  installment  annual_inc  \\\n",
       "id                    0.174291         0.053865     0.073419    0.038393   \n",
       "member_id             0.193394         0.050775     0.068494    0.040173   \n",
       "loan_amnt             0.348886         0.286350     0.930675    0.391608   \n",
       "funded_amnt           0.328379         0.291960     0.956436    0.387538   \n",
       "funded_amnt_inv       0.349000         0.284518     0.899764    0.370921   \n",
       "term_in_month         1.000000         0.435471     0.088811    0.078462   \n",
       "int_rate_in_per       0.435471         1.000000     0.264149    0.042527   \n",
       "installment           0.088811         0.264149     1.000000    0.385373   \n",
       "annual_inc            0.078462         0.042527     0.385373    1.000000   \n",
       "dti                   0.081245         0.115139     0.082601   -0.071886   \n",
       "\n",
       "                      dti  \n",
       "id               0.092847  \n",
       "member_id        0.094057  \n",
       "loan_amnt        0.093864  \n",
       "funded_amnt      0.093034  \n",
       "funded_amnt_inv  0.101098  \n",
       "term_in_month    0.081245  \n",
       "int_rate_in_per  0.115139  \n",
       "installment      0.082601  \n",
       "annual_inc      -0.071886  \n",
       "dti              1.000000  "
      ]
     },
     "execution_count": 111,
     "metadata": {},
     "output_type": "execute_result"
    }
   ],
   "source": [
    "#Correlation matrix\n",
    "loanDf.corr()"
   ]
  },
  {
   "cell_type": "code",
   "execution_count": 110,
   "id": "86b78bb6",
   "metadata": {},
   "outputs": [
    {
     "data": {
      "text/plain": [
       "<AxesSubplot:>"
      ]
     },
     "execution_count": 110,
     "metadata": {},
     "output_type": "execute_result"
    },
    {
     "data": {
      "image/png": "[encoded data removed]",
      "text/plain": [
       "<Figure size 720x360 with 2 Axes>"
      ]
     },
     "metadata": {
      "needs_background": "light"
     },
     "output_type": "display_data"
    }
   ],
   "source": [
    "#Heatmap to display relation between differnt fields of loan\n",
    "dfCorr = loanDf[['loan_amnt', 'funded_amnt', 'funded_amnt_inv',\n",
    "       'term_in_month', 'int_rate_in_per', 'installment', 'grade', 'sub_grade',\n",
    "       'emp_title', 'emp_length', 'home_ownership', 'annual_inc',\n",
    "       'verification_status', 'issue_d', 'loan_status', 'purpose','dti', 'issue_m', 'issue_y']]\n",
    "plt.figure(figsize=(10,5))\n",
    "sns.heatmap(dfCorr.corr(),  annot = True)\n",
    "# From below plot it is clear that - \n",
    "#1. Loan amount ,funded amount and amount funded by investor are highly correlated\n",
    "#2. Annual income and interest rate are very less correlated\n",
    "#3. Annual income and dti are negatively/inversely correlated"
   ]
  },
  {
   "cell_type": "code",
   "execution_count": null,
   "id": "d8b9267b",
   "metadata": {},
   "outputs": [],
   "source": []
  }
 ],
 "metadata": {
  "kernelspec": {
   "display_name": "Python 3 (ipykernel)",
   "language": "python",
   "name": "python3"
  },
  "language_info": {
   "codemirror_mode": {
    "name": "ipython",
    "version": 3
   },
   "file_extension": ".py",
   "mimetype": "text/x-python",
   "name": "python",
   "nbconvert_exporter": "python",
   "pygments_lexer": "ipython3",
   "version": "3.9.7"
  }
 },
 "nbformat": 4,
 "nbformat_minor": 5
}
